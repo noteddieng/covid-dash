{
 "cells": [
  {
   "cell_type": "code",
   "execution_count": 7,
   "id": "39b0b340",
   "metadata": {},
   "outputs": [],
   "source": [
    "import geopandas as gpd\n",
    "import pandas as pd\n",
    "import matplotlib.pyplot as plt\n",
    "import plotly.express as px\n",
    "\n",
    "from shapely.geometry import Point\n",
    "from geopandas import GeoDataFrame\n",
    "\n",
    "df = pd.read_csv(\"/Users/eddienguyen/Downloads/Random/Coding/Python Projects/Random Scraper/2022-08-01.csv\")\n",
    "\n",
    "geometry = [Point(xy) for xy in zip(df['Long_'], df['Lat'])]\n",
    "gdf = GeoDataFrame(df, geometry = geometry)\n",
    "\n",
    "world = gpd.read_file(gpd.datasets.get_path('naturalearth_lowres'))\n",
    "gdf.plot(ax = world.plot(figsize=(15, 15)), marker = 'o', color='red', markersize=15)\n",
    "\n",
    "fig = px.scatter_geo(df, lat='Lat', lon=\"Long_\", hover_name = 'Confirmed')\n",
    "fig.show()"
   ]
  },
  {
   "cell_type": "code",
   "execution_count": 3,
   "id": "a09bd380",
   "metadata": {},
   "outputs": [
    {
     "name": "stdout",
     "output_type": "stream",
     "text": [
      "zsh:1: command not found: jt\r\n"
     ]
    }
   ],
   "source": [
    "! jt -l"
   ]
  }
 ],
 "metadata": {
  "kernelspec": {
   "display_name": "Python 3.10.5 ('env': venv)",
   "language": "python",
   "name": "python3"
  },
  "language_info": {
   "codemirror_mode": {
    "name": "ipython",
    "version": 3
   },
   "file_extension": ".py",
   "mimetype": "text/x-python",
   "name": "python",
   "nbconvert_exporter": "python",
   "pygments_lexer": "ipython3",
   "version": "3.10.5"
  },
  "vscode": {
   "interpreter": {
    "hash": "58ac1d6fd2e76c9f5a7a5b7e9580af0ecbd45fdf0528165f82349b6be47db0f4"
   }
  }
 },
 "nbformat": 4,
 "nbformat_minor": 5
}
